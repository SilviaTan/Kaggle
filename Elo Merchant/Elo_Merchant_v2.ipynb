{
 "cells": [
  {
   "cell_type": "code",
   "execution_count": 1,
   "metadata": {},
   "outputs": [
    {
     "data": {
      "text/html": [
       "<script>requirejs.config({paths: { 'plotly': ['https://cdn.plot.ly/plotly-latest.min']},});if(!window.Plotly) {{require(['plotly'],function(plotly) {window.Plotly=plotly;});}}</script>"
      ],
      "text/vnd.plotly.v1+html": [
       "<script>requirejs.config({paths: { 'plotly': ['https://cdn.plot.ly/plotly-latest.min']},});if(!window.Plotly) {{require(['plotly'],function(plotly) {window.Plotly=plotly;});}}</script>"
      ]
     },
     "metadata": {},
     "output_type": "display_data"
    }
   ],
   "source": [
    "import os\n",
    "import json\n",
    "import numpy as np\n",
    "import pandas as pd\n",
    "from pandas.io.json import json_normalize\n",
    "import matplotlib.pyplot as plt\n",
    "import seaborn as sns\n",
    "color = sns.color_palette()\n",
    "\n",
    "%matplotlib inline\n",
    "\n",
    "from plotly import tools\n",
    "import plotly.offline as py\n",
    "py.init_notebook_mode(connected=True)\n",
    "import plotly.graph_objs as go\n",
    "\n",
    "from sklearn import model_selection, preprocessing, metrics\n",
    "import lightgbm as lgb\n",
    "\n",
    "pd.options.mode.chained_assignment = None\n",
    "pd.options.display.max_columns = 999\n",
    "import datetime"
   ]
  },
  {
   "cell_type": "code",
   "execution_count": 2,
   "metadata": {
    "collapsed": true
   },
   "outputs": [],
   "source": [
    "## data location\n",
    "data_dir = u'C:\\\\Users\\\\siltan\\\\Documents\\\\kaggle\\\\elo merchant\\\\data\\\\all\\\\'\n",
    "output_dir = u'C:\\\\Users\\\\siltan\\\\Documents\\\\kaggle\\\\elo merchant\\\\output\\\\'"
   ]
  },
  {
   "cell_type": "code",
   "execution_count": 3,
   "metadata": {
    "collapsed": true
   },
   "outputs": [],
   "source": [
    "train_df = pd.read_csv(data_dir+\"\\\\train.csv\", parse_dates=[\"first_active_month\"])\n",
    "test_df = pd.read_csv(data_dir+\"test.csv\", parse_dates=[\"first_active_month\"])\n",
    "#print(\"Number of rows and columns in train set : \",train_df.shape)\n",
    "#print(\"Number of rows and columns in test set : \",test_df.shape)"
   ]
  },
  {
   "cell_type": "code",
   "execution_count": 4,
   "metadata": {
    "collapsed": true
   },
   "outputs": [],
   "source": [
    "train_base = pd.DataFrame(train_df['card_id'])\n",
    "test_base = pd.DataFrame(test_df['card_id'])"
   ]
  },
  {
   "cell_type": "markdown",
   "metadata": {},
   "source": [
    "# Target Column Exploration"
   ]
  },
  {
   "cell_type": "code",
   "execution_count": 5,
   "metadata": {
    "collapsed": true
   },
   "outputs": [],
   "source": [
    "#target_col = 'target'\n",
    "#plt.figure(figsize=(8,6))\n",
    "#plt.scatter(range(len(train_df)),np.sort(train_df[target_col].values))\n",
    "#plt.xlabel('index',fontsize = 12)\n",
    "#plt.ylabel('loyalty score',fontsize = 12)\n",
    "#plt.show()"
   ]
  },
  {
   "cell_type": "code",
   "execution_count": 6,
   "metadata": {
    "collapsed": true,
    "scrolled": false
   },
   "outputs": [],
   "source": [
    "#plt.figure(figsize=(12,8))\n",
    "#sns.distplot(train_df[target_col].values,bins = 50, kde = False, color = 'darkblue' )\n",
    "#plt.xlabel('loyalty score bin',fontsize = 12)\n",
    "#plt.title('loyalty score distribution',fontsize = 12)\n",
    "#plt.show()"
   ]
  },
  {
   "cell_type": "markdown",
   "metadata": {},
   "source": [
    "# historical purchase data"
   ]
  },
  {
   "cell_type": "code",
   "execution_count": 7,
   "metadata": {
    "collapsed": true
   },
   "outputs": [],
   "source": [
    "#print '# of target <-30:' , (train_df[target_col]<-30).sum()\n",
    "#print '% of target <-30:' , (train_df[target_col]<-30).sum()/float(len(train_df))"
   ]
  },
  {
   "cell_type": "code",
   "execution_count": 5,
   "metadata": {
    "collapsed": true
   },
   "outputs": [],
   "source": [
    "hist_df = pd.read_csv(data_dir+\"\\\\historical_transactions.csv\")\n",
    "#hist_df.head()\n",
    "#hist_df.shape\n",
    "new_m_txn_df = pd.read_csv(data_dir+\"\\\\new_merchant_transactions.csv\")\n",
    "#new_m_txn_df.head()"
   ]
  },
  {
   "cell_type": "code",
   "execution_count": 6,
   "metadata": {
    "collapsed": true
   },
   "outputs": [],
   "source": [
    "merch_df = pd.read_csv(data_dir+\"\\\\merchants.csv\")\n",
    "# remove duplicates records of merchants\n",
    "merch_df = merch_df.drop_duplicates(subset='merchant_id', keep='last', inplace=False)"
   ]
  },
  {
   "cell_type": "code",
   "execution_count": 14,
   "metadata": {
    "collapsed": true
   },
   "outputs": [],
   "source": [
    "def get_new_columns(name,aggs):\n",
    "    return [name + '_' + k + '_' + agg for k in aggs.keys() for agg in aggs[k]]"
   ]
  },
  {
   "cell_type": "code",
   "execution_count": 7,
   "metadata": {
    "collapsed": true
   },
   "outputs": [],
   "source": [
    "def reduce_mem_usage(df, verbose=True):\n",
    "    numerics = ['int16', 'int32', 'int64', 'float16', 'float32', 'float64']\n",
    "    start_mem = df.memory_usage().sum() / 1024**2    \n",
    "    for col in df.columns:\n",
    "        col_type = df[col].dtypes\n",
    "        if col_type in numerics:\n",
    "            c_min = df[col].min()\n",
    "            c_max = df[col].max()\n",
    "            if str(col_type)[:3] == 'int':\n",
    "                if c_min > np.iinfo(np.int8).min and c_max < np.iinfo(np.int8).max:\n",
    "                    df[col] = df[col].astype(np.int8)\n",
    "                elif c_min > np.iinfo(np.int16).min and c_max < np.iinfo(np.int16).max:\n",
    "                    df[col] = df[col].astype(np.int16)\n",
    "                elif c_min > np.iinfo(np.int32).min and c_max < np.iinfo(np.int32).max:\n",
    "                    df[col] = df[col].astype(np.int32)\n",
    "                elif c_min > np.iinfo(np.int64).min and c_max < np.iinfo(np.int64).max:\n",
    "                    df[col] = df[col].astype(np.int64)  \n",
    "            else:\n",
    "                if c_min > np.finfo(np.float16).min and c_max < np.finfo(np.float16).max:\n",
    "                    df[col] = df[col].astype(np.float16)\n",
    "                elif c_min > np.finfo(np.float32).min and c_max < np.finfo(np.float32).max:\n",
    "                    df[col] = df[col].astype(np.float32)\n",
    "                else:\n",
    "                    df[col] = df[col].astype(np.float64)    \n",
    "    end_mem = df.memory_usage().sum() / 1024**2\n",
    "    if verbose: print('Mem. usage decreased to {:5.2f} Mb ({:.1f}% reduction)'.format(end_mem, 100 * (start_mem - end_mem) / start_mem))\n",
    "    return df"
   ]
  },
  {
   "cell_type": "markdown",
   "metadata": {},
   "source": [
    "# Variable 5.1 - txn data"
   ]
  },
  {
   "cell_type": "code",
   "execution_count": 8,
   "metadata": {},
   "outputs": [
    {
     "data": {
      "text/plain": [
       "Index([u'authorized_flag', u'card_id', u'city_id', u'category_1',\n",
       "       u'installments', u'category_3', u'merchant_category_id', u'merchant_id',\n",
       "       u'month_lag', u'purchase_amount', u'purchase_date', u'category_2',\n",
       "       u'state_id', u'subsector_id'],\n",
       "      dtype='object')"
      ]
     },
     "execution_count": 8,
     "metadata": {},
     "output_type": "execute_result"
    }
   ],
   "source": [
    "hist_df.columns"
   ]
  },
  {
   "cell_type": "code",
   "execution_count": 9,
   "metadata": {
    "collapsed": true
   },
   "outputs": [],
   "source": [
    "for df in [hist_df,new_m_txn_df]:\n",
    "    df['purchase_date'] = pd.to_datetime(df['purchase_date'])\n",
    "    df['year'] = df['purchase_date'].dt.year\n",
    "    df['weekofyear'] = df['purchase_date'].dt.weekofyear\n",
    "    df['month'] = df['purchase_date'].dt.month\n",
    "    df['dayofweek'] = df['purchase_date'].dt.dayofweek\n",
    "    df['weekend'] = (df.purchase_date.dt.weekday >=5).astype(int)\n",
    "    df['hour'] = df['purchase_date'].dt.hour\n",
    "    df['month_diff'] = ((datetime.datetime.today() - df['purchase_date']).dt.days)//30\n",
    "    df['month_diff'] += df['month_lag']"
   ]
  },
  {
   "cell_type": "code",
   "execution_count": 10,
   "metadata": {
    "collapsed": true
   },
   "outputs": [],
   "source": [
    " for df in [hist_df,new_m_txn_df]:\n",
    "    df['authorized_flag'] = df['authorized_flag'].map({'Y':1, 'N':0})\n",
    "    df['category_1'] = df['category_1'].map({'Y':1, 'N':0}) "
   ]
  },
  {
   "cell_type": "code",
   "execution_count": 11,
   "metadata": {},
   "outputs": [
    {
     "name": "stdout",
     "output_type": "stream",
     "text": [
      "Mem. usage decreased to 1582.00 Mb (65.0% reduction)\n",
      "Mem. usage decreased to 102.00 Mb (66.0% reduction)\n"
     ]
    }
   ],
   "source": [
    "for df in [hist_df,new_m_txn_df]:\n",
    "    reduce_mem_usage(df, verbose=True)"
   ]
  },
  {
   "cell_type": "code",
   "execution_count": null,
   "metadata": {
    "collapsed": true
   },
   "outputs": [],
   "source": [
    "# missing value check and imputation\n",
    "print len(hist_df)\n",
    "print hist_df.groupby('merchant_id')['card_id'].size().reset_index()['card_id'].sum()\n",
    "hist_df.groupby('merchant_id')['card_id'].size()"
   ]
  },
  {
   "cell_type": "code",
   "execution_count": 12,
   "metadata": {
    "collapsed": true
   },
   "outputs": [],
   "source": [
    "for df in [hist_df,new_m_txn_df]:\n",
    "    df['category_2'].fillna(1.0,inplace=True)\n",
    "    df['category_3'].fillna('A',inplace=True)\n",
    "    df['merchant_id'].fillna('M_ID_UNKNOWN',inplace=True)"
   ]
  },
  {
   "cell_type": "code",
   "execution_count": 13,
   "metadata": {
    "collapsed": true
   },
   "outputs": [],
   "source": [
    "aggs = {}\n",
    "for col in ['month','hour','weekofyear','dayofweek','year','subsector_id','merchant_id','merchant_category_id',\n",
    "            'city_id','state_id','category_2','category_3']:\n",
    "    aggs[col] = ['nunique']\n",
    "    \n",
    "aggs['purchase_amount'] = ['sum','max','min','mean','var']\n",
    "aggs['installments'] = ['sum','max','min','mean','var','nunique']\n",
    "aggs['purchase_date'] = ['max','min','nunique']\n",
    "aggs['month_lag'] = ['max','min','mean','var','nunique']\n",
    "aggs['month_diff'] = ['mean']\n",
    "aggs['authorized_flag'] = ['sum', 'mean','nunique']\n",
    "aggs['weekend'] = ['sum', 'mean','nunique']\n",
    "aggs['category_1'] = ['sum', 'mean','nunique']\n",
    "aggs['card_id'] = ['size']\n"
   ]
  },
  {
   "cell_type": "code",
   "execution_count": 15,
   "metadata": {
    "collapsed": true
   },
   "outputs": [],
   "source": [
    "new_columns = get_new_columns('hist',aggs)\n",
    "df_hist_trans_group = hist_df.groupby('card_id').agg(aggs)\n",
    "df_hist_trans_group.columns = new_columns\n",
    "df_hist_trans_group.reset_index(drop=False,inplace=True)"
   ]
  },
  {
   "cell_type": "code",
   "execution_count": 16,
   "metadata": {
    "collapsed": true
   },
   "outputs": [],
   "source": [
    "new_columns = get_new_columns('new',aggs)\n",
    "df_new_trans_group = new_m_txn_df.groupby('card_id').agg(aggs)\n",
    "df_new_trans_group.columns = new_columns\n",
    "df_new_trans_group.reset_index(drop=False,inplace=True)"
   ]
  },
  {
   "cell_type": "code",
   "execution_count": 17,
   "metadata": {
    "collapsed": true
   },
   "outputs": [],
   "source": [
    "df_hist_trans_group['hist_purchase_date_diff'] = (df_hist_trans_group['hist_purchase_date_max'] - df_hist_trans_group['hist_purchase_date_min']).dt.days\n",
    "df_hist_trans_group['hist_purchase_date_average'] = df_hist_trans_group['hist_purchase_date_diff']/df_hist_trans_group['hist_card_id_size']\n",
    "df_hist_trans_group['hist_purchase_daily_txn_cnt'] = df_hist_trans_group['hist_card_id_size']/df_hist_trans_group['hist_purchase_date_nunique']\n",
    "df_hist_trans_group['hist_purchase_date_uptonow'] = (datetime.datetime.today() - df_hist_trans_group['hist_purchase_date_max']).dt.days\n",
    "\n",
    "df_new_trans_group['new_purchase_date_diff'] = (df_new_trans_group['new_purchase_date_max'] - df_new_trans_group['new_purchase_date_min']).dt.days\n",
    "df_new_trans_group['new_purchase_date_average'] = df_new_trans_group['new_purchase_date_diff']/df_new_trans_group['new_card_id_size']\n",
    "df_new_trans_group['new_purchase_daily_txn_cnt'] = df_new_trans_group['new_card_id_size']/df_new_trans_group['new_purchase_date_nunique']\n",
    "df_new_trans_group['new_purchase_date_uptonow'] = (datetime.datetime.today() - df_new_trans_group['new_purchase_date_max']).dt.days"
   ]
  },
  {
   "cell_type": "code",
   "execution_count": 82,
   "metadata": {
    "collapsed": true
   },
   "outputs": [],
   "source": [
    "#hist_df.groupby(['category_2'])['purchase_amount'].transform('mean')\n",
    "#for df in [hist_df,new_m_txn_df]:\n",
    "#    for col in ['category_1','category_2','category_3','city_id','state_id','merchant_category_id']:\n",
    "#        df[col+'_mean'] = df.groupby([col])['purchase_amount'].transform('mean')\n",
    "#        df[col+'_mean_diff'] = df['purchase_amount'] - df[col+'_mean']\n",
    "#        aggs[col+'_mean'] = ['mean'] \n",
    "#        aggs[col+'_mean_diff'] = ['min', 'max','sum','mean'] "
   ]
  },
  {
   "cell_type": "code",
   "execution_count": 18,
   "metadata": {
    "collapsed": true
   },
   "outputs": [],
   "source": [
    "df_hist_trans_group['hist_purchase_monthly_txn_amt'] = df_hist_trans_group['hist_purchase_amount_sum']/df_hist_trans_group['hist_month_lag_nunique']\n",
    "df_hist_trans_group['hist_purchase_monthly_txn_cnt'] = df_hist_trans_group['hist_card_id_size']/df_hist_trans_group['hist_month_lag_nunique']\n",
    "df_new_trans_group['new_purchase_monthly_txn_amt'] = df_new_trans_group['new_purchase_amount_sum']/df_new_trans_group['new_month_lag_nunique']\n",
    "df_new_trans_group['new_purchase_monthly_txn_cnt'] = df_new_trans_group['new_card_id_size']/df_new_trans_group['new_month_lag_nunique']"
   ]
  },
  {
   "cell_type": "markdown",
   "metadata": {},
   "source": [
    "# Variable 5.2 - Tenure"
   ]
  },
  {
   "cell_type": "code",
   "execution_count": 19,
   "metadata": {
    "collapsed": true
   },
   "outputs": [],
   "source": [
    "train_df2 = train_df[['card_id','first_active_month']]\n",
    "test_df2 = test_df[['card_id','first_active_month']]\n",
    "train_df2['tenure_mth'] = train_df2['first_active_month'].apply(lambda x: pd.Timestamp('20190101').to_period('M') - x.to_period('M')if not pd.isnull(x) else np.NaN)\n",
    "test_df2['tenure_mth'] = test_df2['first_active_month'].apply(lambda x: pd.Timestamp('20190101').to_period('M') - x.to_period('M') if not pd.isnull(x) else np.NaN)"
   ]
  },
  {
   "cell_type": "code",
   "execution_count": 20,
   "metadata": {
    "collapsed": true,
    "scrolled": true
   },
   "outputs": [],
   "source": [
    "train_df2[\"year\"] = train_df2[\"first_active_month\"].dt.year\n",
    "test_df2[\"year\"] = test_df2[\"first_active_month\"].dt.year\n",
    "train_df2[\"month\"] = train_df2[\"first_active_month\"].dt.month\n",
    "test_df2[\"month\"] = test_df2[\"first_active_month\"].dt.month"
   ]
  },
  {
   "cell_type": "markdown",
   "metadata": {},
   "source": [
    "# Variable 5.3 - Volume/Trip per Dimension"
   ]
  },
  {
   "cell_type": "code",
   "execution_count": 21,
   "metadata": {
    "collapsed": true
   },
   "outputs": [],
   "source": [
    "def vol_trip_per_dimension(df,dimension,tag):\n",
    "    gdf = df.groupby(['card_id',dimension]).agg({'purchase_amount': ['sum','size']}).reset_index()\n",
    "    gdf.columns = ['card_id',dimension,'amt','trip']       \n",
    "    aggs = {}\n",
    "    for col in ['amt','trip']:\n",
    "        aggs[col] = ['mean','max','min','var']\n",
    "    \n",
    "    new_columns = get_new_columns(tag+'_by_'+dimension,aggs)\n",
    "    gdf_d = gdf.groupby('card_id').agg(aggs)\n",
    "    gdf_d.columns = new_columns\n",
    "    return gdf_d"
   ]
  },
  {
   "cell_type": "code",
   "execution_count": 22,
   "metadata": {
    "collapsed": true,
    "scrolled": true
   },
   "outputs": [],
   "source": [
    "train_df3 = train_base\n",
    "test_df3 = test_base\n",
    "for i in ['city_id','state_id','merchant_category_id','merchant_id',\n",
    "          'category_1','category_2','category_3','installments','subsector_id',\n",
    "          'month_lag','weekofyear','month','dayofweek','weekend']:\n",
    "    gdf = vol_trip_per_dimension(hist_df,i,'h')\n",
    "    train_df3 = pd.merge(train_df3, gdf, on=\"card_id\", how=\"left\")\n",
    "    test_df3 = pd.merge(test_df3, gdf, on=\"card_id\", how=\"left\")\n",
    "    gdf = vol_trip_per_dimension(new_m_txn_df,i,'n')\n",
    "    train_df3 = pd.merge(train_df3, gdf, on=\"card_id\", how=\"left\")\n",
    "    test_df3 = pd.merge(test_df3, gdf, on=\"card_id\", how=\"left\")"
   ]
  },
  {
   "cell_type": "markdown",
   "metadata": {},
   "source": [
    "# Variable 5.4 - clumpness"
   ]
  },
  {
   "cell_type": "code",
   "execution_count": 23,
   "metadata": {
    "collapsed": true
   },
   "outputs": [],
   "source": [
    "def max_days_between_two_purchase(df,tag):\n",
    "    tmp = df[['card_id','purchase_date']]\n",
    "    tmp['sort_num'] = tmp.groupby('card_id').purchase_date.rank(ascending=1,method='dense')\n",
    "    tmp['sort_num2'] = tmp['sort_num']-1\n",
    "    tmp = tmp.merge(tmp, left_on = ['card_id','sort_num'], right_on = ['card_id','sort_num2'], how = 'left')\n",
    "    tmp['purchase_date_delta'] = (tmp['purchase_date_y'] - tmp['purchase_date_x']).dt.days\n",
    "    output = pd.DataFrame(tmp.groupby('card_id')['purchase_date_delta'].max()).reset_index()\n",
    "    output.columns = ['card_id','max_day_bt_purchase_'+tag]\n",
    "    return output"
   ]
  },
  {
   "cell_type": "code",
   "execution_count": 24,
   "metadata": {
    "collapsed": true
   },
   "outputs": [],
   "source": [
    "train_df4 = train_base\n",
    "test_df4 = test_base\n",
    "\n",
    "gdf = max_days_between_two_purchase(hist_df,'')\n",
    "train_df4 = pd.merge(train_df4, gdf, on=\"card_id\", how=\"left\")\n",
    "test_df4 = pd.merge(test_df4, gdf, on=\"card_id\", how=\"left\")\n",
    "\n",
    "gdf = max_days_between_two_purchase(new_m_txn_df,'n')\n",
    "train_df4 = pd.merge(train_df4, gdf, on=\"card_id\", how=\"left\")\n",
    "test_df4 = pd.merge(test_df4, gdf, on=\"card_id\", how=\"left\")"
   ]
  },
  {
   "cell_type": "markdown",
   "metadata": {},
   "source": [
    "# Variable 5.5 - ranking"
   ]
  },
  {
   "cell_type": "code",
   "execution_count": 25,
   "metadata": {
    "collapsed": true
   },
   "outputs": [],
   "source": [
    "def ranking1(df,var):\n",
    "    gdf = df[['card_id'] + [var]]\n",
    "    gdf[var + 'sort_num']=gdf[var].rank(ascending=1,method='min')\n",
    "    gdf[var + '_bin'] = ((gdf[var +'sort_num'] / (len(gdf)+1) *100)+1).astype(int)\n",
    "    #gdf.groupby('hist_amt_rank_bin').agg({'sort_num':['max','min','size'],'hist_purchase_amount_sum':['max','min','size']})\n",
    "    #output = gdf[['card_id',var + '_bin',var + 'sort_num']] \n",
    "    output = gdf[['card_id',var + '_bin']] \n",
    "    return output"
   ]
  },
  {
   "cell_type": "code",
   "execution_count": 26,
   "metadata": {
    "collapsed": true,
    "scrolled": true
   },
   "outputs": [],
   "source": [
    "train_df5 = train_base\n",
    "test_df5 = test_base\n",
    "\n",
    "gdf = ranking1(df_hist_trans_group,'hist_purchase_amount_sum')\n",
    "\n",
    "train_df5 = pd.merge(train_df5, gdf, on=\"card_id\", how=\"left\")\n",
    "test_df5 = pd.merge(test_df5, gdf, on=\"card_id\", how=\"left\")\n",
    "\n",
    "gdf = ranking1(df_hist_trans_group,'hist_card_id_size')\n",
    "\n",
    "train_df5 = pd.merge(train_df5, gdf, on=\"card_id\", how=\"left\")\n",
    "test_df5 = pd.merge(test_df5, gdf, on=\"card_id\", how=\"left\")\n",
    "\n",
    "\n",
    "gdf = ranking1(df_new_trans_group,'new_purchase_amount_sum')\n",
    "\n",
    "train_df5 = pd.merge(train_df5, gdf, on=\"card_id\", how=\"left\")\n",
    "test_df5 = pd.merge(test_df5, gdf, on=\"card_id\", how=\"left\")\n",
    "\n",
    "gdf = ranking1(df_new_trans_group,'new_card_id_size')\n",
    "\n",
    "train_df5 = pd.merge(train_df5, gdf, on=\"card_id\", how=\"left\")\n",
    "test_df5 = pd.merge(test_df5, gdf, on=\"card_id\", how=\"left\")\n",
    "\n",
    "train_df5 = train_df5.fillna(0)\n",
    "test_df5 = test_df5.fillna(0)"
   ]
  },
  {
   "cell_type": "code",
   "execution_count": 27,
   "metadata": {
    "collapsed": true
   },
   "outputs": [],
   "source": [
    "var = 'authorized_flag'\n",
    "gdf = new_m_txn_df[['card_id', 'purchase_amount'] + [var]]\n",
    "gdf = gdf.groupby(['card_id']+ [var]).agg({'purchase_amount': ['sum','size']}).reset_index()"
   ]
  },
  {
   "cell_type": "code",
   "execution_count": 29,
   "metadata": {},
   "outputs": [
    {
     "data": {
      "text/html": [
       "<div>\n",
       "<style scoped>\n",
       "    .dataframe tbody tr th:only-of-type {\n",
       "        vertical-align: middle;\n",
       "    }\n",
       "\n",
       "    .dataframe tbody tr th {\n",
       "        vertical-align: top;\n",
       "    }\n",
       "\n",
       "    .dataframe thead th {\n",
       "        text-align: right;\n",
       "    }\n",
       "</style>\n",
       "<table border=\"1\" class=\"dataframe\">\n",
       "  <thead>\n",
       "    <tr style=\"text-align: right;\">\n",
       "      <th></th>\n",
       "      <th>card_id</th>\n",
       "      <th>authorized_flag</th>\n",
       "      <th>amt</th>\n",
       "      <th>trip</th>\n",
       "    </tr>\n",
       "  </thead>\n",
       "  <tbody>\n",
       "    <tr>\n",
       "      <th>0</th>\n",
       "      <td>C_ID_00007093c1</td>\n",
       "      <td>1</td>\n",
       "      <td>-1.328125</td>\n",
       "      <td>2</td>\n",
       "    </tr>\n",
       "    <tr>\n",
       "      <th>1</th>\n",
       "      <td>C_ID_0001238066</td>\n",
       "      <td>1</td>\n",
       "      <td>-14.851562</td>\n",
       "      <td>26</td>\n",
       "    </tr>\n",
       "    <tr>\n",
       "      <th>2</th>\n",
       "      <td>C_ID_0001506ef0</td>\n",
       "      <td>1</td>\n",
       "      <td>-1.447266</td>\n",
       "      <td>2</td>\n",
       "    </tr>\n",
       "    <tr>\n",
       "      <th>3</th>\n",
       "      <td>C_ID_0001793786</td>\n",
       "      <td>1</td>\n",
       "      <td>-0.229004</td>\n",
       "      <td>31</td>\n",
       "    </tr>\n",
       "    <tr>\n",
       "      <th>4</th>\n",
       "      <td>C_ID_000183fdda</td>\n",
       "      <td>1</td>\n",
       "      <td>-6.589844</td>\n",
       "      <td>11</td>\n",
       "    </tr>\n",
       "  </tbody>\n",
       "</table>\n",
       "</div>"
      ],
      "text/plain": [
       "           card_id  authorized_flag        amt  trip\n",
       "0  C_ID_00007093c1                1  -1.328125     2\n",
       "1  C_ID_0001238066                1 -14.851562    26\n",
       "2  C_ID_0001506ef0                1  -1.447266     2\n",
       "3  C_ID_0001793786                1  -0.229004    31\n",
       "4  C_ID_000183fdda                1  -6.589844    11"
      ]
     },
     "execution_count": 29,
     "metadata": {},
     "output_type": "execute_result"
    }
   ],
   "source": [
    "gdf.columns = ['card_id',var,'amt','trip']\n",
    "gdf.head()"
   ]
  },
  {
   "cell_type": "markdown",
   "metadata": {},
   "source": [
    "# Variable 5.6 - ranking by city/state"
   ]
  },
  {
   "cell_type": "code",
   "execution_count": null,
   "metadata": {
    "collapsed": true
   },
   "outputs": [],
   "source": [
    "def ranking2(df,var):\n",
    "    gdf = df[['card_id'] + [var]]\n",
    "    gdf[var + 'sort_num']=gdf[var].rank(ascending=1,method='min')\n",
    "    gdf[var + '_bin'] = ((gdf[var +'sort_num'] / (len(gdf)+1) *100)+1).astype(int)\n",
    "    #gdf.groupby('hist_amt_rank_bin').agg({'sort_num':['max','min','size'],'hist_purchase_amount_sum':['max','min','size']})\n",
    "    #output = gdf[['card_id',var + '_bin',var + 'sort_num']] \n",
    "    output = gdf[['card_id',var + '_bin']] \n",
    "    return output\n",
    "for df in [hist_df,new_m_txn_df]:\n"
   ]
  },
  {
   "cell_type": "code",
   "execution_count": 521,
   "metadata": {
    "collapsed": true
   },
   "outputs": [],
   "source": [
    "#for df in [hist_df,new_m_txn_df]:\n",
    "var = 'category_1'\n",
    "df = new_m_txn_df\n",
    "tag = 'n'\n",
    "\n",
    "\n",
    "\n",
    "\n",
    "gdf = df[['card_id',var,'purchase_amount']]\n",
    "gdf = gdf.groupby(['card_id',var]).agg({'purchase_amount':['max','sum','mean','size']}).reset_index()\n",
    "agg_col = [tag+'_'+var+'_max_amt',tag+'_'+var+'_sum_amt',tag+'_'+var+'_mean_amt',tag+'_'+var+'_trip']\n",
    "gdf.columns = ['card_id',var] + agg_col\n",
    "\n",
    "gdf2 = gdf.groupby(var)[tag+'_'+var+'_sum_amt'].sum()"
   ]
  },
  {
   "cell_type": "code",
   "execution_count": 528,
   "metadata": {},
   "outputs": [
    {
     "data": {
      "text/plain": [
       "0"
      ]
     },
     "execution_count": 528,
     "metadata": {},
     "output_type": "execute_result"
    }
   ],
   "source": [
    "gdf2.index[0]"
   ]
  },
  {
   "cell_type": "code",
   "execution_count": 490,
   "metadata": {
    "scrolled": true
   },
   "outputs": [
    {
     "name": "stdout",
     "output_type": "stream",
     "text": [
      "Index([u'card_id', u'category_1', u'n_category_1_max_amt',\n",
      "       u'n_category_1_sum_amt', u'n_category_1_mean_amt',\n",
      "       u'n_category_1_trip'],\n",
      "      dtype='object')\n"
     ]
    },
    {
     "data": {
      "text/plain": [
       "0    0\n",
       "2    1\n",
       "Name: category_1, dtype: int64"
      ]
     },
     "execution_count": 490,
     "metadata": {},
     "output_type": "execute_result"
    }
   ],
   "source": [
    "print gdf.columns\n",
    "gdf['category_1'].drop_duplicates()"
   ]
  },
  {
   "cell_type": "code",
   "execution_count": 493,
   "metadata": {},
   "outputs": [
    {
     "data": {
      "text/plain": [
       "[0L, 1L]"
      ]
     },
     "execution_count": 493,
     "metadata": {},
     "output_type": "execute_result"
    }
   ],
   "source": [
    "list(gdf[var].drop_duplicates())"
   ]
  },
  {
   "cell_type": "markdown",
   "metadata": {},
   "source": [
    "# Agg"
   ]
  },
  {
   "cell_type": "code",
   "execution_count": 474,
   "metadata": {
    "collapsed": true
   },
   "outputs": [],
   "source": [
    "#del hist_df;gc.collect()\n",
    "#del new_m_txn_df;gc.collect()\n",
    "\n",
    "\n",
    "train_agg = train_base.merge(df_hist_trans_group,on='card_id',how='left')\n",
    "test_agg = test_base.merge(df_hist_trans_group,on='card_id',how='left')\n",
    "\n",
    "train_agg = train_agg.merge(df_new_trans_group,on='card_id',how='left')\n",
    "test_agg = test_agg.merge(df_new_trans_group,on='card_id',how='left')\n",
    "\n",
    "#del df_hist_trans_group;gc.collect()\n",
    "#del df_new_trans_group;gc.collect()\n",
    "\n",
    "train_agg = train_agg.merge(train_df2,on='card_id',how='left')\n",
    "test_agg = test_agg.merge(test_df2,on='card_id',how='left')\n",
    "\n",
    "#del train_df2;gc.collect()\n",
    "#del test_df2;gc.collect()\n",
    "\n",
    "train_agg = train_agg.merge(train_df3,on='card_id',how='left')\n",
    "test_agg = test_agg.merge(test_df3,on='card_id',how='left')\n",
    "\n",
    "#del train_df3;gc.collect()\n",
    "#del test_df3;gc.collect()\n",
    "\n",
    "train_agg = train_agg.merge(train_df4,on='card_id',how='left')\n",
    "test_agg = test_agg.merge(test_df4,on='card_id',how='left')\n",
    "\n",
    "#del train_df4;gc.collect()\n",
    "#del test_df4;gc.collect()\n",
    "\n",
    "train_agg = train_agg.merge(train_df5,on='card_id',how='left')\n",
    "test_agg = test_agg.merge(test_df5,on='card_id',how='left')\n",
    "\n",
    "#del train_df5;gc.collect()\n",
    "#del test_df5;gc.collect()"
   ]
  },
  {
   "cell_type": "code",
   "execution_count": 475,
   "metadata": {
    "collapsed": true
   },
   "outputs": [],
   "source": [
    "for df in [train_agg,test_agg]:\n",
    "    df['first_active_month'] = pd.to_datetime(df['first_active_month'])\n",
    "    df['hist_first_buy'] = (df['hist_purchase_date_min'] - df['first_active_month']).dt.days\n",
    "    df['new_hist_first_buy'] = (df['new_purchase_date_min'] - df['first_active_month']).dt.days\n",
    "    for f in ['hist_purchase_date_max','hist_purchase_date_min','new_purchase_date_max',\\\n",
    "                     'new_purchase_date_min']:\n",
    "        df[f] = df[f].astype(np.int64) * 1e-9\n",
    "    df['card_id_total'] = df['new_card_id_size']+df['hist_card_id_size']\n",
    "    df['purchase_amount_total'] = df['new_purchase_amount_sum']+df['hist_purchase_amount_sum']\n",
    "    \n",
    "    df['purchase_monthly_amount_diff'] = df['new_purchase_monthly_txn_amt']-df['hist_purchase_monthly_txn_amt']\n",
    "    df['purchase_monthly_amount_diff_ratio'] = (df['purchase_monthly_amount_diff'])/df['hist_purchase_monthly_txn_amt']\n",
    " \n",
    "    df['purchase_monthly_trip_diff'] = df['new_purchase_monthly_txn_cnt']-df['hist_purchase_monthly_txn_cnt']\n",
    "    df['purchase_monthly_trip_diff_ratio'] = (df['purchase_monthly_trip_diff'])/df['hist_purchase_monthly_txn_cnt']\n",
    "\n",
    "    df['purchase_amount_mean_diff'] = df['new_purchase_amount_mean']-df['hist_purchase_amount_mean']\n",
    "    df['purchase_amount_mean_diff_ratio'] = (df['purchase_amount_mean_diff'])/df['hist_purchase_amount_mean']"
   ]
  },
  {
   "cell_type": "code",
   "execution_count": 476,
   "metadata": {
    "collapsed": true,
    "scrolled": true
   },
   "outputs": [],
   "source": [
    "train_df = train_df[['target','card_id','feature_1','feature_2','feature_3']].merge(train_agg,on='card_id',how='left')\n",
    "test_df = test_df[['card_id','feature_1','feature_2','feature_3']].merge(test_agg,on='card_id',how='left')"
   ]
  },
  {
   "cell_type": "code",
   "execution_count": 477,
   "metadata": {
    "collapsed": true
   },
   "outputs": [],
   "source": [
    "train_df['outliers'] = 0\n",
    "train_df.loc[train_df['target'] < -30, 'outliers'] = 1\n",
    "for f in ['feature_1','feature_2','feature_3']:\n",
    "    order_label = train_df.groupby([f])['outliers'].mean()\n",
    "    train_df[f] = train_df[f].map(order_label)\n",
    "    test_df[f] = test_df[f].map(order_label)\n",
    "train_df = train_df.drop(columns='outliers', inplace=False)"
   ]
  },
  {
   "cell_type": "markdown",
   "metadata": {},
   "source": [
    "# Training"
   ]
  },
  {
   "cell_type": "code",
   "execution_count": 478,
   "metadata": {
    "collapsed": true
   },
   "outputs": [],
   "source": [
    "#c = list(train_df.columns)\n",
    "cols_to_use = [c for c in train_df.columns if c not in ['card_id', 'first_active_month','target','outliers']]\n",
    "target_col = 'target'"
   ]
  },
  {
   "cell_type": "code",
   "execution_count": 479,
   "metadata": {
    "collapsed": true
   },
   "outputs": [],
   "source": [
    "def run_lgb(train_X, train_y, val_X, val_y, test_X):\n",
    "    params = {\n",
    "        # 1\n",
    "        \"objective\" : \"regression\",\n",
    "        \"metric\" : \"rmse\",\n",
    "        \"num_leaves\" : 30,\n",
    "        \"min_child_weight\" : 50,\n",
    "        \"learning_rate\" : 0.02,\n",
    "        \"bagging_fraction\" : 0.9,\n",
    "        \"feature_fraction\" : 0.9,\n",
    "        \"bagging_frequency\" : 5,\n",
    "        \"bagging_seed\" : 11,\n",
    "        \"verbosity\" : -1,\n",
    "        \"lambda_l1\": 0.1\n",
    "      \n",
    "        \n",
    "        # 2\n",
    "        #\"objective\" : \"regression\",\n",
    "        #\"metric\" : \"rmse\",\n",
    "        #\"num_leaves\" : 35,\n",
    "        #\"min_child_weight\" : 75,\n",
    "        #\"learning_rate\" : 0.02,\n",
    "        #\"bagging_fraction\" : 0.7,\n",
    "        #\"feature_fraction\" : 0.5,\n",
    "        #\"bagging_frequency\" : 5,\n",
    "        #\"bagging_seed\" : 2016,\n",
    "        #\"verbosity\" : -1\n",
    "    }\n",
    "    \n",
    "    lgtrain = lgb.Dataset(train_X, label=train_y)\n",
    "    lgval = lgb.Dataset(val_X, label=val_y)\n",
    "    evals_result = {}\n",
    "    model = lgb.train(params, lgtrain, 1000, valid_sets=[lgval], early_stopping_rounds=100, verbose_eval=100, evals_result=evals_result)\n",
    "    \n",
    "    pred_test_y = model.predict(test_X, num_iteration=model.best_iteration)\n",
    "    return pred_test_y, model, evals_result"
   ]
  },
  {
   "cell_type": "code",
   "execution_count": 480,
   "metadata": {
    "scrolled": true
   },
   "outputs": [
    {
     "name": "stdout",
     "output_type": "stream",
     "text": [
      "Training until validation scores don't improve for 100 rounds.\n",
      "[100]\tvalid_0's rmse: 3.70264\n",
      "[200]\tvalid_0's rmse: 3.69005\n",
      "[300]\tvalid_0's rmse: 3.68703\n",
      "[400]\tvalid_0's rmse: 3.6855\n",
      "[500]\tvalid_0's rmse: 3.68431\n",
      "[600]\tvalid_0's rmse: 3.68425\n",
      "Early stopping, best iteration is:\n",
      "[577]\tvalid_0's rmse: 3.6839\n",
      "Training until validation scores don't improve for 100 rounds.\n",
      "[100]\tvalid_0's rmse: 3.64679\n",
      "[200]\tvalid_0's rmse: 3.63495\n",
      "[300]\tvalid_0's rmse: 3.63112\n",
      "[400]\tvalid_0's rmse: 3.63006\n",
      "Early stopping, best iteration is:\n",
      "[398]\tvalid_0's rmse: 3.62996\n",
      "Training until validation scores don't improve for 100 rounds.\n",
      "[100]\tvalid_0's rmse: 3.67468\n",
      "[200]\tvalid_0's rmse: 3.65555\n",
      "[300]\tvalid_0's rmse: 3.64677\n",
      "[400]\tvalid_0's rmse: 3.64497\n",
      "[500]\tvalid_0's rmse: 3.6423\n",
      "[600]\tvalid_0's rmse: 3.64131\n",
      "[700]\tvalid_0's rmse: 3.64079\n",
      "[800]\tvalid_0's rmse: 3.63977\n",
      "[900]\tvalid_0's rmse: 3.64017\n",
      "Early stopping, best iteration is:\n",
      "[819]\tvalid_0's rmse: 3.63958\n",
      "Training until validation scores don't improve for 100 rounds.\n",
      "[100]\tvalid_0's rmse: 3.66436\n",
      "[200]\tvalid_0's rmse: 3.64333\n",
      "[300]\tvalid_0's rmse: 3.63774\n",
      "[400]\tvalid_0's rmse: 3.63528\n",
      "[500]\tvalid_0's rmse: 3.63481\n",
      "[600]\tvalid_0's rmse: 3.63386\n",
      "[700]\tvalid_0's rmse: 3.63347\n",
      "[800]\tvalid_0's rmse: 3.6328\n",
      "[900]\tvalid_0's rmse: 3.63269\n",
      "Early stopping, best iteration is:\n",
      "[864]\tvalid_0's rmse: 3.63252\n",
      "Training until validation scores don't improve for 100 rounds.\n",
      "[100]\tvalid_0's rmse: 3.7346\n",
      "[200]\tvalid_0's rmse: 3.71539\n",
      "[300]\tvalid_0's rmse: 3.7083\n",
      "[400]\tvalid_0's rmse: 3.70601\n",
      "[500]\tvalid_0's rmse: 3.70484\n",
      "[600]\tvalid_0's rmse: 3.70455\n",
      "[700]\tvalid_0's rmse: 3.70382\n",
      "[800]\tvalid_0's rmse: 3.70306\n",
      "[900]\tvalid_0's rmse: 3.70322\n",
      "Early stopping, best iteration is:\n",
      "[830]\tvalid_0's rmse: 3.70291\n"
     ]
    }
   ],
   "source": [
    "train_X = train_df[cols_to_use]\n",
    "test_X = test_df[cols_to_use]\n",
    "train_y = train_df[target_col].values\n",
    "\n",
    "pred_test = 0\n",
    "kf = model_selection.KFold(n_splits=5, random_state=2018, shuffle=True)\n",
    "for dev_index, val_index in kf.split(train_df):\n",
    "    dev_X, val_X = train_X.loc[dev_index,:], train_X.loc[val_index,:]\n",
    "    dev_y, val_y = train_y[dev_index], train_y[val_index]\n",
    "    \n",
    "    pred_test_tmp, model, evals_result = run_lgb(dev_X, dev_y, val_X, val_y, test_X)\n",
    "    pred_test += pred_test_tmp\n",
    "pred_test /= 5."
   ]
  },
  {
   "cell_type": "code",
   "execution_count": 481,
   "metadata": {},
   "outputs": [
    {
     "data": {
      "image/png": "[encoded data removed]",
      "text/plain": [
       "<matplotlib.figure.Figure at 0x1ad1d4a8>"
      ]
     },
     "metadata": {},
     "output_type": "display_data"
    }
   ],
   "source": [
    "fig, ax = plt.subplots(figsize=(12,10))\n",
    "lgb.plot_importance(model, max_num_features=50, height=0.8, ax=ax)\n",
    "ax.grid(False)\n",
    "plt.title(\"LightGBM - Feature Importance\", fontsize=15)\n",
    "plt.show()"
   ]
  },
  {
   "cell_type": "code",
   "execution_count": 127,
   "metadata": {
    "collapsed": true
   },
   "outputs": [],
   "source": [
    "#len(model.feature_importance())\n",
    "#len(cols_to_use)\n",
    "#fi = pd.DataFrame(model.feature_importance(),index=cols_to_use, columns=['fea_importance'])\n",
    "#cols_to_use2 = list(fi.sort_values('fea_importance',ascending = False).head(100).index)"
   ]
  },
  {
   "cell_type": "code",
   "execution_count": 482,
   "metadata": {
    "collapsed": true
   },
   "outputs": [],
   "source": [
    "sub_df = pd.DataFrame({\"card_id\":test_df[\"card_id\"].values})\n",
    "sub_df[\"target\"] = pred_test\n",
    "sub_df.to_csv(output_dir + \"lgb_var5_3.csv\", index=False)"
   ]
  },
  {
   "cell_type": "code",
   "execution_count": 483,
   "metadata": {},
   "outputs": [
    {
     "data": {
      "text/plain": [
       "123623"
      ]
     },
     "execution_count": 483,
     "metadata": {},
     "output_type": "execute_result"
    }
   ],
   "source": [
    "len(sub_df)"
   ]
  },
  {
   "cell_type": "markdown",
   "metadata": {},
   "source": [
    "remove outliner"
   ]
  },
  {
   "cell_type": "code",
   "execution_count": null,
   "metadata": {
    "collapsed": true
   },
   "outputs": [],
   "source": []
  },
  {
   "cell_type": "code",
   "execution_count": null,
   "metadata": {
    "collapsed": true
   },
   "outputs": [],
   "source": []
  },
  {
   "cell_type": "code",
   "execution_count": null,
   "metadata": {
    "collapsed": true
   },
   "outputs": [],
   "source": []
  },
  {
   "cell_type": "code",
   "execution_count": 535,
   "metadata": {
    "collapsed": true
   },
   "outputs": [],
   "source": [
    "df_train_wo_ol = train_df[train_df['target'] >=-30]"
   ]
  },
  {
   "cell_type": "code",
   "execution_count": 540,
   "metadata": {},
   "outputs": [
    {
     "name": "stdout",
     "output_type": "stream",
     "text": [
      "Training until validation scores don't improve for 100 rounds.\n",
      "[100]\tvalid_0's rmse: 1.71844\n",
      "Early stopping, best iteration is:\n",
      "[12]\tvalid_0's rmse: 1.71822\n",
      "Training until validation scores don't improve for 100 rounds.\n",
      "[100]\tvalid_0's rmse: 1.71726\n",
      "Early stopping, best iteration is:\n",
      "[3]\tvalid_0's rmse: 1.71693\n",
      "Training until validation scores don't improve for 100 rounds.\n",
      "[100]\tvalid_0's rmse: 1.70827\n",
      "Early stopping, best iteration is:\n",
      "[2]\tvalid_0's rmse: 1.70796\n",
      "Training until validation scores don't improve for 100 rounds.\n",
      "[100]\tvalid_0's rmse: 1.73196\n",
      "Early stopping, best iteration is:\n",
      "[2]\tvalid_0's rmse: 1.73161\n",
      "Training until validation scores don't improve for 100 rounds.\n",
      "[100]\tvalid_0's rmse: 1.7143\n",
      "Early stopping, best iteration is:\n",
      "[4]\tvalid_0's rmse: 1.71408\n"
     ]
    }
   ],
   "source": [
    "train_X = df_train_wo_ol[cols_to_use]\n",
    "train_y = df_train_wo_ol[target_col].values\n",
    "\n",
    "pred_test_wo_ol = 0\n",
    "kf = model_selection.KFold(n_splits=5, random_state=2018, shuffle=True)\n",
    "for dev_index, val_index in kf.split(df_train_wo_ol):\n",
    "    dev_X, val_X = train_X.loc[dev_index,:], train_X.loc[val_index,:]\n",
    "    dev_y, val_y = train_y[dev_index], train_y[val_index]\n",
    "    \n",
    "    pred_test_tmp, model, evals_result = run_lgb(dev_X, dev_y, val_X, val_y, test_X)\n",
    "    pred_test_wo_ol += pred_test_tmp\n",
    "pred_test_wo_ol /= 5."
   ]
  },
  {
   "cell_type": "code",
   "execution_count": 579,
   "metadata": {
    "collapsed": true
   },
   "outputs": [],
   "source": [
    "model_without_outliers = pd.DataFrame({\"card_id\":test_df[\"card_id\"].values})\n",
    "model_without_outliers[\"target\"] = pred_test_wo_ol"
   ]
  },
  {
   "cell_type": "code",
   "execution_count": 545,
   "metadata": {
    "collapsed": true
   },
   "outputs": [],
   "source": [
    "train_df['outliers'] = 0\n",
    "train_df.loc[train_df['target'] < -30, 'outliers'] = 1\n",
    "\n",
    "cols_to_use2 = [c for c in train_df.columns if c not in ['card_id', 'first_active_month','target','outliers','outliers']]\n",
    "target_col2 = 'outliers'"
   ]
  },
  {
   "cell_type": "code",
   "execution_count": 547,
   "metadata": {
    "scrolled": true
   },
   "outputs": [
    {
     "name": "stdout",
     "output_type": "stream",
     "text": [
      "Training until validation scores don't improve for 100 rounds.\n",
      "[100]\tvalid_0's rmse: 0.100915\n",
      "[200]\tvalid_0's rmse: 0.100755\n",
      "[300]\tvalid_0's rmse: 0.100792\n",
      "Early stopping, best iteration is:\n",
      "[256]\tvalid_0's rmse: 0.10074\n",
      "Training until validation scores don't improve for 100 rounds.\n",
      "[100]\tvalid_0's rmse: 0.0985397\n",
      "[200]\tvalid_0's rmse: 0.098441\n",
      "Early stopping, best iteration is:\n",
      "[188]\tvalid_0's rmse: 0.0984207\n",
      "Training until validation scores don't improve for 100 rounds.\n",
      "[100]\tvalid_0's rmse: 0.0996748\n",
      "[200]\tvalid_0's rmse: 0.0992748\n",
      "[300]\tvalid_0's rmse: 0.099168\n",
      "Early stopping, best iteration is:\n",
      "[282]\tvalid_0's rmse: 0.0991648\n",
      "Training until validation scores don't improve for 100 rounds.\n",
      "[100]\tvalid_0's rmse: 0.099209\n",
      "[200]\tvalid_0's rmse: 0.0988466\n",
      "[300]\tvalid_0's rmse: 0.0987241\n",
      "[400]\tvalid_0's rmse: 0.0987114\n",
      "Early stopping, best iteration is:\n",
      "[395]\tvalid_0's rmse: 0.0987089\n",
      "Training until validation scores don't improve for 100 rounds.\n",
      "[100]\tvalid_0's rmse: 0.101487\n",
      "[200]\tvalid_0's rmse: 0.101209\n",
      "[300]\tvalid_0's rmse: 0.101175\n",
      "Early stopping, best iteration is:\n",
      "[289]\tvalid_0's rmse: 0.101172\n"
     ]
    }
   ],
   "source": [
    "train_X = train_df[cols_to_use2]\n",
    "test_X = test_df[cols_to_use2]\n",
    "train_y = train_df[target_col2].values\n",
    "\n",
    "pred_test_ol = 0\n",
    "kf = model_selection.KFold(n_splits=5, random_state=2018, shuffle=True)\n",
    "for dev_index, val_index in kf.split(train_df):\n",
    "    dev_X, val_X = train_X.loc[dev_index,:], train_X.loc[val_index,:]\n",
    "    dev_y, val_y = train_y[dev_index], train_y[val_index]\n",
    "    \n",
    "    pred_test_tmp, model, evals_result = run_lgb(dev_X, dev_y, val_X, val_y, test_X)\n",
    "    pred_test_ol += pred_test_tmp\n",
    "pred_test_ol /= 5."
   ]
  },
  {
   "cell_type": "code",
   "execution_count": 550,
   "metadata": {
    "collapsed": true
   },
   "outputs": [],
   "source": [
    "df_outlier_prob = pd.DataFrame({\"card_id\":test_df[\"card_id\"].values})\n",
    "df_outlier_prob[\"target\"] = pred_test_ol"
   ]
  },
  {
   "cell_type": "code",
   "execution_count": 552,
   "metadata": {
    "collapsed": true
   },
   "outputs": [],
   "source": [
    "# In case missing some predictable outlier, we choose top 25000 with highest outliers likelyhood.\n",
    "outlier_id = pd.DataFrame(df_outlier_prob.sort_values(by='target',ascending = False).head(25000)['card_id'])"
   ]
  },
  {
   "cell_type": "code",
   "execution_count": 582,
   "metadata": {},
   "outputs": [
    {
     "data": {
      "text/html": [
       "<div>\n",
       "<style scoped>\n",
       "    .dataframe tbody tr th:only-of-type {\n",
       "        vertical-align: middle;\n",
       "    }\n",
       "\n",
       "    .dataframe tbody tr th {\n",
       "        vertical-align: top;\n",
       "    }\n",
       "\n",
       "    .dataframe thead th {\n",
       "        text-align: right;\n",
       "    }\n",
       "</style>\n",
       "<table border=\"1\" class=\"dataframe\">\n",
       "  <thead>\n",
       "    <tr style=\"text-align: right;\">\n",
       "      <th></th>\n",
       "      <th>card_id</th>\n",
       "      <th>target</th>\n",
       "    </tr>\n",
       "  </thead>\n",
       "  <tbody>\n",
       "    <tr>\n",
       "      <th>0</th>\n",
       "      <td>C_ID_0ab67a22ab</td>\n",
       "      <td>-2.874758</td>\n",
       "    </tr>\n",
       "    <tr>\n",
       "      <th>1</th>\n",
       "      <td>C_ID_f7cada36d3</td>\n",
       "      <td>0.479522</td>\n",
       "    </tr>\n",
       "    <tr>\n",
       "      <th>2</th>\n",
       "      <td>C_ID_6d8dba8475</td>\n",
       "      <td>-0.826553</td>\n",
       "    </tr>\n",
       "    <tr>\n",
       "      <th>3</th>\n",
       "      <td>C_ID_7f1041e8e1</td>\n",
       "      <td>-5.216784</td>\n",
       "    </tr>\n",
       "    <tr>\n",
       "      <th>4</th>\n",
       "      <td>C_ID_22e4a47c72</td>\n",
       "      <td>-0.277082</td>\n",
       "    </tr>\n",
       "  </tbody>\n",
       "</table>\n",
       "</div>"
      ],
      "text/plain": [
       "           card_id    target\n",
       "0  C_ID_0ab67a22ab -2.874758\n",
       "1  C_ID_f7cada36d3  0.479522\n",
       "2  C_ID_6d8dba8475 -0.826553\n",
       "3  C_ID_7f1041e8e1 -5.216784\n",
       "4  C_ID_22e4a47c72 -0.277082"
      ]
     },
     "execution_count": 582,
     "metadata": {},
     "output_type": "execute_result"
    }
   ],
   "source": [
    "most_likely_liers = sub_df.merge(outlier_id,how='right')\n",
    "most_likely_liers.head()"
   ]
  },
  {
   "cell_type": "code",
   "execution_count": 583,
   "metadata": {
    "collapsed": true
   },
   "outputs": [],
   "source": [
    "target1 = test_base.merge(most_likely_liers,how='left')"
   ]
  },
  {
   "cell_type": "code",
   "execution_count": 580,
   "metadata": {
    "collapsed": true
   },
   "outputs": [],
   "source": [
    "target2 = model_without_outliers"
   ]
  },
  {
   "cell_type": "code",
   "execution_count": 585,
   "metadata": {
    "collapsed": true
   },
   "outputs": [],
   "source": [
    "combiner = lambda x, y: np.where(pd.isna(x), y, x)"
   ]
  },
  {
   "cell_type": "code",
   "execution_count": 587,
   "metadata": {
    "collapsed": true
   },
   "outputs": [],
   "source": [
    "target1.combine(target2, combiner).to_csv(\"lgb_var5_4_ol.csv\", index=False)"
   ]
  },
  {
   "cell_type": "markdown",
   "metadata": {},
   "source": [
    "# Variable 1 - Volume"
   ]
  },
  {
   "cell_type": "code",
   "execution_count": 11,
   "metadata": {
    "collapsed": true
   },
   "outputs": [],
   "source": [
    "def change_agg_col(df,tag):\n",
    "    col = []\n",
    "    for i in list(df.columns):\n",
    "        col += [i[0]+'-'+i[1]+'-'+tag]\n",
    "    return col"
   ]
  },
  {
   "cell_type": "code",
   "execution_count": 12,
   "metadata": {
    "collapsed": true
   },
   "outputs": [],
   "source": [
    "## volume of historical txn\n",
    "gdf = hist_df.groupby('card_id').agg({'purchase_amount': ['min', 'max','sum','mean', 'std','size'], 'month_lag': ['min','max']})\n",
    "gdf.columns = change_agg_col(gdf,'h')\n",
    "train_df2 = pd.merge(train_df, gdf, on=\"card_id\", how=\"left\")\n",
    "test_df2 = pd.merge(test_df, gdf, on=\"card_id\", how=\"left\")\n",
    "\n",
    "## volume of new merchant txn\n",
    "gdf = new_m_txn_df.groupby('card_id').agg({'purchase_amount': ['min', 'max','sum','mean', 'std','size'], 'month_lag': ['min','max']})\n",
    "gdf.columns = change_agg_col(gdf,'n')\n",
    "train_df2 = pd.merge(train_df2, gdf, on=\"card_id\", how=\"left\")\n",
    "test_df2 = pd.merge(test_df2, gdf, on=\"card_id\", how=\"left\")"
   ]
  },
  {
   "cell_type": "markdown",
   "metadata": {},
   "source": [
    "# Variable 3 - Dimension Count"
   ]
  },
  {
   "cell_type": "code",
   "execution_count": 15,
   "metadata": {
    "collapsed": true
   },
   "outputs": [],
   "source": [
    "## distinct state, city, merchant, etc.\n",
    "def change_agg_col2(df,tag):\n",
    "    col = []\n",
    "    for i in list(df.columns):\n",
    "        col += [i+'-cnt-'+tag]\n",
    "    return col"
   ]
  },
  {
   "cell_type": "code",
   "execution_count": 17,
   "metadata": {
    "collapsed": true
   },
   "outputs": [],
   "source": [
    "gdf = hist_df.groupby('card_id').agg({'city_id': pd.Series.nunique, \n",
    "                            'state_id': pd.Series.nunique,\n",
    "                            'merchant_category_id':pd.Series.nunique,\n",
    "                            'merchant_id':pd.Series.nunique,\n",
    "                            'category_1':pd.Series.nunique,\n",
    "                            'category_2':pd.Series.nunique,\n",
    "                            'category_3':pd.Series.nunique,\n",
    "                            'installments':pd.Series.nunique,\n",
    "                            'subsector_id':pd.Series.nunique,\n",
    "                            'month_lag':pd.Series.nunique})\n",
    "\n",
    "gdf.columns = change_agg_col2(gdf,'h')\n",
    "train_df2 = pd.merge(train_df2, gdf, on=\"card_id\", how=\"left\")\n",
    "test_df2 = pd.merge(test_df2, gdf, on=\"card_id\", how=\"left\")\n",
    "\n",
    "## volume of new merchant txn\n",
    "gdf = new_m_txn_df.groupby('card_id').agg({'city_id': pd.Series.nunique, \n",
    "                            'state_id': pd.Series.nunique,\n",
    "                            'merchant_category_id':pd.Series.nunique,\n",
    "                            'merchant_id':pd.Series.nunique,\n",
    "                            'category_1':pd.Series.nunique,\n",
    "                            'category_2':pd.Series.nunique,\n",
    "                            'category_3':pd.Series.nunique,\n",
    "                            'installments':pd.Series.nunique,\n",
    "                            'subsector_id':pd.Series.nunique,\n",
    "                            'month_lag':pd.Series.nunique})\n",
    "gdf.columns = change_agg_col2(gdf,'n')\n",
    "train_df2 = pd.merge(train_df2, gdf, on=\"card_id\", how=\"left\")\n",
    "test_df2 = pd.merge(test_df2, gdf, on=\"card_id\", how=\"left\")"
   ]
  },
  {
   "cell_type": "markdown",
   "metadata": {},
   "source": [
    "# Variable 4.2 - Volume/Trip per weekday/weekend"
   ]
  },
  {
   "cell_type": "code",
   "execution_count": 184,
   "metadata": {
    "collapsed": true
   },
   "outputs": [],
   "source": [
    "hist_df['weekday'] = pd.to_datetime(hist_df['purchase_date']).apply(lambda x: x.weekday())\n",
    "hist_df['workday'] = hist_df['weekday'].apply(lambda x: 1 if x<5 else 0 )"
   ]
  },
  {
   "cell_type": "code",
   "execution_count": 185,
   "metadata": {
    "collapsed": true
   },
   "outputs": [],
   "source": [
    "new_m_txn_df['weekday'] = pd.to_datetime(new_m_txn_df['purchase_date']).apply(lambda x: x.weekday())\n",
    "new_m_txn_df['workday'] = new_m_txn_df['weekday'].apply(lambda x: 1 if x<5 else 0 )"
   ]
  },
  {
   "cell_type": "code",
   "execution_count": 186,
   "metadata": {
    "collapsed": true
   },
   "outputs": [],
   "source": [
    "for i in ['weekday','workday']:\n",
    "    gdf = vol_trip_per_dimension(hist_df,i,'h')\n",
    "    train_df2 = pd.merge(train_df2, gdf, on=\"card_id\", how=\"left\")\n",
    "    test_df2 = pd.merge(test_df2, gdf, on=\"card_id\", how=\"left\")\n",
    "    gdf = vol_trip_per_dimension(new_m_txn_df,i,'n')\n",
    "    train_df2 = pd.merge(train_df2, gdf, on=\"card_id\", how=\"left\")\n",
    "    test_df2 = pd.merge(test_df2, gdf, on=\"card_id\", how=\"left\")"
   ]
  },
  {
   "cell_type": "code",
   "execution_count": 195,
   "metadata": {
    "collapsed": true
   },
   "outputs": [],
   "source": [
    "#i = 'workday'\n",
    "#hist_df.groupby(i).agg({'purchase_amount': ['mean','max','min','std','size']})"
   ]
  },
  {
   "cell_type": "markdown",
   "metadata": {},
   "source": [
    "# Variable 4.3 - Volume/Trip per merchant tag"
   ]
  },
  {
   "cell_type": "code",
   "execution_count": 359,
   "metadata": {
    "collapsed": true
   },
   "outputs": [],
   "source": [
    "# remove duplicates records of merchants\n",
    "merch_df = merch_df.drop_duplicates(subset='merchant_id', keep='last', inplace=False)"
   ]
  },
  {
   "cell_type": "code",
   "execution_count": 361,
   "metadata": {
    "collapsed": true,
    "scrolled": true
   },
   "outputs": [],
   "source": [
    "merch_pct = merch_df\n",
    "for i in ['city_id','state_id','category_1','merchant_group_id','merchant_category_id','subsector_id']:\n",
    "    merch_tmp = merch_df.groupby(i).agg({'merchant_id':['size']}).reset_index()\n",
    "    merch_tmp.columns = [i,'mer_cnt_'+i]\n",
    "    for j in ['avg_sales_lag3','avg_purchases_lag3','avg_sales_lag6','avg_purchases_lag6','avg_sales_lag12','avg_purchases_lag12']:\n",
    "        merch_tmp2 = pd.merge(merch_df[['merchant_id',i,j]], merch_tmp, on=i, how=\"left\")\n",
    "        merch_tmp2['sort_num']=merch_tmp2.groupby(i)[j].rank(ascending=1,method='min',na_option = 'top')\n",
    "        merch_tmp2['pct_'+i+'_'+j] = ((merch_tmp2['sort_num'] / (merch_tmp2['mer_cnt_'+i]+1) *10)+1).astype(int)\n",
    "        merch_pct = pd.merge(merch_pct,merch_tmp2[['merchant_id','pct_'+i+'_'+j]], on = 'merchant_id', how = 'left')"
   ]
  },
  {
   "cell_type": "code",
   "execution_count": 368,
   "metadata": {
    "collapsed": true,
    "scrolled": true
   },
   "outputs": [],
   "source": [
    "merch_tag_col = ['merchant_id','merchant_group_id','most_recent_sales_range', 'most_recent_purchases_range','category_4', \n",
    "          'pct_city_id_avg_sales_lag3', 'pct_city_id_avg_purchases_lag3',\n",
    "           'pct_city_id_avg_sales_lag6', 'pct_city_id_avg_purchases_lag6',\n",
    "           'pct_city_id_avg_sales_lag12', 'pct_city_id_avg_purchases_lag12',\n",
    "           'pct_state_id_avg_sales_lag3', 'pct_state_id_avg_purchases_lag3',\n",
    "           'pct_state_id_avg_sales_lag6', 'pct_state_id_avg_purchases_lag6',\n",
    "           'pct_state_id_avg_sales_lag12', 'pct_state_id_avg_purchases_lag12',\n",
    "           'pct_category_1_avg_sales_lag3', 'pct_category_1_avg_purchases_lag3',\n",
    "           'pct_category_1_avg_sales_lag6', 'pct_category_1_avg_purchases_lag6',\n",
    "           'pct_category_1_avg_sales_lag12',\n",
    "           'pct_category_1_avg_purchases_lag12',\n",
    "           'pct_merchant_group_id_avg_sales_lag3',\n",
    "           'pct_merchant_group_id_avg_purchases_lag3',\n",
    "           'pct_merchant_group_id_avg_sales_lag6',\n",
    "           'pct_merchant_group_id_avg_purchases_lag6',\n",
    "           'pct_merchant_group_id_avg_sales_lag12',\n",
    "           'pct_merchant_group_id_avg_purchases_lag12',\n",
    "           'pct_merchant_category_id_avg_sales_lag3',\n",
    "           'pct_merchant_category_id_avg_purchases_lag3',\n",
    "           'pct_merchant_category_id_avg_sales_lag6',\n",
    "           'pct_merchant_category_id_avg_purchases_lag6',\n",
    "           'pct_merchant_category_id_avg_sales_lag12',\n",
    "           'pct_merchant_category_id_avg_purchases_lag12',\n",
    "           'pct_subsector_id_avg_sales_lag3',\n",
    "           'pct_subsector_id_avg_purchases_lag3',\n",
    "           'pct_subsector_id_avg_sales_lag6',\n",
    "           'pct_subsector_id_avg_purchases_lag6',\n",
    "           'pct_subsector_id_avg_sales_lag12',\n",
    "           'pct_subsector_id_avg_purchases_lag12']"
   ]
  },
  {
   "cell_type": "code",
   "execution_count": 429,
   "metadata": {
    "collapsed": true
   },
   "outputs": [],
   "source": [
    "def vol_trip_per_dimension2(df,dimension,tag):\n",
    "    gdf = df.groupby(['card_id',dimension]).agg({'amt': ['sum'],'trip': ['sum']}).reset_index()\n",
    "    gdf.columns = ['card_id',dimension,'amt','trip']      \n",
    "    gdf = gdf.groupby('card_id').agg({'amt': ['mean','max','min','std','size'],'trip': ['mean','max','min','std']}).reset_index()\n",
    "    c = change_agg_col(gdf,dimension+'-'+tag)\n",
    "    c[0] = 'card_id'\n",
    "    gdf.columns = c\n",
    "    return gdf"
   ]
  },
  {
   "cell_type": "code",
   "execution_count": 426,
   "metadata": {
    "collapsed": true
   },
   "outputs": [],
   "source": [
    "hist_df_m = hist_df.groupby(['card_id','merchant_id']).agg({'purchase_amount': ['sum','size']}).reset_index()\n",
    "hist_df_m.columns = ['card_id','merchant_id','amt','trip']\n",
    "\n",
    "new_m_txn_df_m = new_m_txn_df.groupby(['card_id','merchant_id']).agg({'purchase_amount': ['sum','size']}).reset_index()\n",
    "new_m_txn_df_m.columns = ['card_id','merchant_id','amt','trip']"
   ]
  },
  {
   "cell_type": "code",
   "execution_count": 427,
   "metadata": {
    "collapsed": true
   },
   "outputs": [],
   "source": [
    "hist_df_m = pd.merge(hist_df_m,merch_pct[merch_tag_col],on = 'merchant_id', how = 'left')\n",
    "new_m_txn_df_m = pd.merge(new_m_txn_df_m,merch_pct[merch_tag_col],on = 'merchant_id', how = 'left')"
   ]
  },
  {
   "cell_type": "code",
   "execution_count": 428,
   "metadata": {},
   "outputs": [
    {
     "data": {
      "text/html": [
       "<div>\n",
       "<style scoped>\n",
       "    .dataframe tbody tr th:only-of-type {\n",
       "        vertical-align: middle;\n",
       "    }\n",
       "\n",
       "    .dataframe tbody tr th {\n",
       "        vertical-align: top;\n",
       "    }\n",
       "\n",
       "    .dataframe thead th {\n",
       "        text-align: right;\n",
       "    }\n",
       "</style>\n",
       "<table border=\"1\" class=\"dataframe\">\n",
       "  <thead>\n",
       "    <tr style=\"text-align: right;\">\n",
       "      <th></th>\n",
       "      <th>card_id</th>\n",
       "      <th>merchant_id</th>\n",
       "      <th>amt</th>\n",
       "      <th>trip</th>\n",
       "      <th>merchant_group_id</th>\n",
       "      <th>most_recent_sales_range</th>\n",
       "      <th>most_recent_purchases_range</th>\n",
       "      <th>category_4</th>\n",
       "      <th>pct_city_id_avg_sales_lag3</th>\n",
       "      <th>pct_city_id_avg_purchases_lag3</th>\n",
       "      <th>pct_city_id_avg_sales_lag6</th>\n",
       "      <th>pct_city_id_avg_purchases_lag6</th>\n",
       "      <th>pct_city_id_avg_sales_lag12</th>\n",
       "      <th>pct_city_id_avg_purchases_lag12</th>\n",
       "      <th>pct_state_id_avg_sales_lag3</th>\n",
       "      <th>pct_state_id_avg_purchases_lag3</th>\n",
       "      <th>pct_state_id_avg_sales_lag6</th>\n",
       "      <th>pct_state_id_avg_purchases_lag6</th>\n",
       "      <th>pct_state_id_avg_sales_lag12</th>\n",
       "      <th>pct_state_id_avg_purchases_lag12</th>\n",
       "      <th>pct_category_1_avg_sales_lag3</th>\n",
       "      <th>pct_category_1_avg_purchases_lag3</th>\n",
       "      <th>pct_category_1_avg_sales_lag6</th>\n",
       "      <th>pct_category_1_avg_purchases_lag6</th>\n",
       "      <th>pct_category_1_avg_sales_lag12</th>\n",
       "      <th>pct_category_1_avg_purchases_lag12</th>\n",
       "      <th>pct_merchant_group_id_avg_sales_lag3</th>\n",
       "      <th>pct_merchant_group_id_avg_purchases_lag3</th>\n",
       "      <th>pct_merchant_group_id_avg_sales_lag6</th>\n",
       "      <th>pct_merchant_group_id_avg_purchases_lag6</th>\n",
       "      <th>pct_merchant_group_id_avg_sales_lag12</th>\n",
       "      <th>pct_merchant_group_id_avg_purchases_lag12</th>\n",
       "      <th>pct_merchant_category_id_avg_sales_lag3</th>\n",
       "      <th>pct_merchant_category_id_avg_purchases_lag3</th>\n",
       "      <th>pct_merchant_category_id_avg_sales_lag6</th>\n",
       "      <th>pct_merchant_category_id_avg_purchases_lag6</th>\n",
       "      <th>pct_merchant_category_id_avg_sales_lag12</th>\n",
       "      <th>pct_merchant_category_id_avg_purchases_lag12</th>\n",
       "      <th>pct_subsector_id_avg_sales_lag3</th>\n",
       "      <th>pct_subsector_id_avg_purchases_lag3</th>\n",
       "      <th>pct_subsector_id_avg_sales_lag6</th>\n",
       "      <th>pct_subsector_id_avg_purchases_lag6</th>\n",
       "      <th>pct_subsector_id_avg_sales_lag12</th>\n",
       "      <th>pct_subsector_id_avg_purchases_lag12</th>\n",
       "    </tr>\n",
       "  </thead>\n",
       "  <tbody>\n",
       "    <tr>\n",
       "      <th>0</th>\n",
       "      <td>C_ID_00007093c1</td>\n",
       "      <td>M_ID_0379adb435</td>\n",
       "      <td>-2.248327</td>\n",
       "      <td>4</td>\n",
       "      <td>39381</td>\n",
       "      <td>D</td>\n",
       "      <td>E</td>\n",
       "      <td>N</td>\n",
       "      <td>6</td>\n",
       "      <td>8</td>\n",
       "      <td>3</td>\n",
       "      <td>5</td>\n",
       "      <td>2</td>\n",
       "      <td>3</td>\n",
       "      <td>6</td>\n",
       "      <td>8</td>\n",
       "      <td>3</td>\n",
       "      <td>5</td>\n",
       "      <td>2</td>\n",
       "      <td>3</td>\n",
       "      <td>6</td>\n",
       "      <td>8</td>\n",
       "      <td>2</td>\n",
       "      <td>5</td>\n",
       "      <td>1</td>\n",
       "      <td>2</td>\n",
       "      <td>6</td>\n",
       "      <td>6</td>\n",
       "      <td>6</td>\n",
       "      <td>6</td>\n",
       "      <td>6</td>\n",
       "      <td>6</td>\n",
       "      <td>6</td>\n",
       "      <td>8</td>\n",
       "      <td>3</td>\n",
       "      <td>4</td>\n",
       "      <td>2</td>\n",
       "      <td>2</td>\n",
       "      <td>6</td>\n",
       "      <td>8</td>\n",
       "      <td>3</td>\n",
       "      <td>4</td>\n",
       "      <td>2</td>\n",
       "      <td>2</td>\n",
       "    </tr>\n",
       "    <tr>\n",
       "      <th>1</th>\n",
       "      <td>C_ID_00007093c1</td>\n",
       "      <td>M_ID_06a8d84366</td>\n",
       "      <td>-0.435198</td>\n",
       "      <td>1</td>\n",
       "      <td>4462</td>\n",
       "      <td>B</td>\n",
       "      <td>B</td>\n",
       "      <td>Y</td>\n",
       "      <td>4</td>\n",
       "      <td>5</td>\n",
       "      <td>5</td>\n",
       "      <td>5</td>\n",
       "      <td>5</td>\n",
       "      <td>5</td>\n",
       "      <td>4</td>\n",
       "      <td>5</td>\n",
       "      <td>5</td>\n",
       "      <td>5</td>\n",
       "      <td>5</td>\n",
       "      <td>5</td>\n",
       "      <td>4</td>\n",
       "      <td>4</td>\n",
       "      <td>4</td>\n",
       "      <td>4</td>\n",
       "      <td>4</td>\n",
       "      <td>4</td>\n",
       "      <td>2</td>\n",
       "      <td>4</td>\n",
       "      <td>3</td>\n",
       "      <td>4</td>\n",
       "      <td>3</td>\n",
       "      <td>4</td>\n",
       "      <td>4</td>\n",
       "      <td>5</td>\n",
       "      <td>4</td>\n",
       "      <td>5</td>\n",
       "      <td>4</td>\n",
       "      <td>5</td>\n",
       "      <td>4</td>\n",
       "      <td>5</td>\n",
       "      <td>4</td>\n",
       "      <td>5</td>\n",
       "      <td>4</td>\n",
       "      <td>5</td>\n",
       "    </tr>\n",
       "    <tr>\n",
       "      <th>2</th>\n",
       "      <td>C_ID_00007093c1</td>\n",
       "      <td>M_ID_0dabc5a70c</td>\n",
       "      <td>-1.121909</td>\n",
       "      <td>2</td>\n",
       "      <td>35</td>\n",
       "      <td>B</td>\n",
       "      <td>C</td>\n",
       "      <td>N</td>\n",
       "      <td>7</td>\n",
       "      <td>8</td>\n",
       "      <td>7</td>\n",
       "      <td>7</td>\n",
       "      <td>7</td>\n",
       "      <td>7</td>\n",
       "      <td>7</td>\n",
       "      <td>8</td>\n",
       "      <td>7</td>\n",
       "      <td>8</td>\n",
       "      <td>7</td>\n",
       "      <td>7</td>\n",
       "      <td>7</td>\n",
       "      <td>8</td>\n",
       "      <td>7</td>\n",
       "      <td>7</td>\n",
       "      <td>7</td>\n",
       "      <td>7</td>\n",
       "      <td>6</td>\n",
       "      <td>7</td>\n",
       "      <td>6</td>\n",
       "      <td>6</td>\n",
       "      <td>5</td>\n",
       "      <td>5</td>\n",
       "      <td>6</td>\n",
       "      <td>7</td>\n",
       "      <td>7</td>\n",
       "      <td>7</td>\n",
       "      <td>6</td>\n",
       "      <td>7</td>\n",
       "      <td>6</td>\n",
       "      <td>6</td>\n",
       "      <td>6</td>\n",
       "      <td>6</td>\n",
       "      <td>6</td>\n",
       "      <td>6</td>\n",
       "    </tr>\n",
       "    <tr>\n",
       "      <th>3</th>\n",
       "      <td>C_ID_00007093c1</td>\n",
       "      <td>M_ID_109e9d2b1d</td>\n",
       "      <td>-1.275931</td>\n",
       "      <td>2</td>\n",
       "      <td>35</td>\n",
       "      <td>B</td>\n",
       "      <td>B</td>\n",
       "      <td>N</td>\n",
       "      <td>6</td>\n",
       "      <td>7</td>\n",
       "      <td>6</td>\n",
       "      <td>6</td>\n",
       "      <td>5</td>\n",
       "      <td>5</td>\n",
       "      <td>6</td>\n",
       "      <td>7</td>\n",
       "      <td>6</td>\n",
       "      <td>6</td>\n",
       "      <td>5</td>\n",
       "      <td>6</td>\n",
       "      <td>6</td>\n",
       "      <td>7</td>\n",
       "      <td>5</td>\n",
       "      <td>6</td>\n",
       "      <td>5</td>\n",
       "      <td>5</td>\n",
       "      <td>4</td>\n",
       "      <td>5</td>\n",
       "      <td>4</td>\n",
       "      <td>4</td>\n",
       "      <td>3</td>\n",
       "      <td>3</td>\n",
       "      <td>6</td>\n",
       "      <td>7</td>\n",
       "      <td>6</td>\n",
       "      <td>7</td>\n",
       "      <td>5</td>\n",
       "      <td>6</td>\n",
       "      <td>5</td>\n",
       "      <td>7</td>\n",
       "      <td>6</td>\n",
       "      <td>7</td>\n",
       "      <td>5</td>\n",
       "      <td>6</td>\n",
       "    </tr>\n",
       "    <tr>\n",
       "      <th>4</th>\n",
       "      <td>C_ID_00007093c1</td>\n",
       "      <td>M_ID_15446e939c</td>\n",
       "      <td>0.324212</td>\n",
       "      <td>4</td>\n",
       "      <td>35</td>\n",
       "      <td>C</td>\n",
       "      <td>C</td>\n",
       "      <td>N</td>\n",
       "      <td>7</td>\n",
       "      <td>8</td>\n",
       "      <td>7</td>\n",
       "      <td>7</td>\n",
       "      <td>6</td>\n",
       "      <td>7</td>\n",
       "      <td>7</td>\n",
       "      <td>8</td>\n",
       "      <td>7</td>\n",
       "      <td>7</td>\n",
       "      <td>6</td>\n",
       "      <td>7</td>\n",
       "      <td>7</td>\n",
       "      <td>8</td>\n",
       "      <td>6</td>\n",
       "      <td>7</td>\n",
       "      <td>6</td>\n",
       "      <td>6</td>\n",
       "      <td>6</td>\n",
       "      <td>7</td>\n",
       "      <td>5</td>\n",
       "      <td>5</td>\n",
       "      <td>4</td>\n",
       "      <td>5</td>\n",
       "      <td>8</td>\n",
       "      <td>9</td>\n",
       "      <td>8</td>\n",
       "      <td>8</td>\n",
       "      <td>7</td>\n",
       "      <td>7</td>\n",
       "      <td>8</td>\n",
       "      <td>8</td>\n",
       "      <td>7</td>\n",
       "      <td>8</td>\n",
       "      <td>6</td>\n",
       "      <td>7</td>\n",
       "    </tr>\n",
       "  </tbody>\n",
       "</table>\n",
       "</div>"
      ],
      "text/plain": [
       "           card_id      merchant_id       amt  trip  merchant_group_id  \\\n",
       "0  C_ID_00007093c1  M_ID_0379adb435 -2.248327     4              39381   \n",
       "1  C_ID_00007093c1  M_ID_06a8d84366 -0.435198     1               4462   \n",
       "2  C_ID_00007093c1  M_ID_0dabc5a70c -1.121909     2                 35   \n",
       "3  C_ID_00007093c1  M_ID_109e9d2b1d -1.275931     2                 35   \n",
       "4  C_ID_00007093c1  M_ID_15446e939c  0.324212     4                 35   \n",
       "\n",
       "  most_recent_sales_range most_recent_purchases_range category_4  \\\n",
       "0                       D                           E          N   \n",
       "1                       B                           B          Y   \n",
       "2                       B                           C          N   \n",
       "3                       B                           B          N   \n",
       "4                       C                           C          N   \n",
       "\n",
       "   pct_city_id_avg_sales_lag3  pct_city_id_avg_purchases_lag3  \\\n",
       "0                           6                               8   \n",
       "1                           4                               5   \n",
       "2                           7                               8   \n",
       "3                           6                               7   \n",
       "4                           7                               8   \n",
       "\n",
       "   pct_city_id_avg_sales_lag6  pct_city_id_avg_purchases_lag6  \\\n",
       "0                           3                               5   \n",
       "1                           5                               5   \n",
       "2                           7                               7   \n",
       "3                           6                               6   \n",
       "4                           7                               7   \n",
       "\n",
       "   pct_city_id_avg_sales_lag12  pct_city_id_avg_purchases_lag12  \\\n",
       "0                            2                                3   \n",
       "1                            5                                5   \n",
       "2                            7                                7   \n",
       "3                            5                                5   \n",
       "4                            6                                7   \n",
       "\n",
       "   pct_state_id_avg_sales_lag3  pct_state_id_avg_purchases_lag3  \\\n",
       "0                            6                                8   \n",
       "1                            4                                5   \n",
       "2                            7                                8   \n",
       "3                            6                                7   \n",
       "4                            7                                8   \n",
       "\n",
       "   pct_state_id_avg_sales_lag6  pct_state_id_avg_purchases_lag6  \\\n",
       "0                            3                                5   \n",
       "1                            5                                5   \n",
       "2                            7                                8   \n",
       "3                            6                                6   \n",
       "4                            7                                7   \n",
       "\n",
       "   pct_state_id_avg_sales_lag12  pct_state_id_avg_purchases_lag12  \\\n",
       "0                             2                                 3   \n",
       "1                             5                                 5   \n",
       "2                             7                                 7   \n",
       "3                             5                                 6   \n",
       "4                             6                                 7   \n",
       "\n",
       "   pct_category_1_avg_sales_lag3  pct_category_1_avg_purchases_lag3  \\\n",
       "0                              6                                  8   \n",
       "1                              4                                  4   \n",
       "2                              7                                  8   \n",
       "3                              6                                  7   \n",
       "4                              7                                  8   \n",
       "\n",
       "   pct_category_1_avg_sales_lag6  pct_category_1_avg_purchases_lag6  \\\n",
       "0                              2                                  5   \n",
       "1                              4                                  4   \n",
       "2                              7                                  7   \n",
       "3                              5                                  6   \n",
       "4                              6                                  7   \n",
       "\n",
       "   pct_category_1_avg_sales_lag12  pct_category_1_avg_purchases_lag12  \\\n",
       "0                               1                                   2   \n",
       "1                               4                                   4   \n",
       "2                               7                                   7   \n",
       "3                               5                                   5   \n",
       "4                               6                                   6   \n",
       "\n",
       "   pct_merchant_group_id_avg_sales_lag3  \\\n",
       "0                                     6   \n",
       "1                                     2   \n",
       "2                                     6   \n",
       "3                                     4   \n",
       "4                                     6   \n",
       "\n",
       "   pct_merchant_group_id_avg_purchases_lag3  \\\n",
       "0                                         6   \n",
       "1                                         4   \n",
       "2                                         7   \n",
       "3                                         5   \n",
       "4                                         7   \n",
       "\n",
       "   pct_merchant_group_id_avg_sales_lag6  \\\n",
       "0                                     6   \n",
       "1                                     3   \n",
       "2                                     6   \n",
       "3                                     4   \n",
       "4                                     5   \n",
       "\n",
       "   pct_merchant_group_id_avg_purchases_lag6  \\\n",
       "0                                         6   \n",
       "1                                         4   \n",
       "2                                         6   \n",
       "3                                         4   \n",
       "4                                         5   \n",
       "\n",
       "   pct_merchant_group_id_avg_sales_lag12  \\\n",
       "0                                      6   \n",
       "1                                      3   \n",
       "2                                      5   \n",
       "3                                      3   \n",
       "4                                      4   \n",
       "\n",
       "   pct_merchant_group_id_avg_purchases_lag12  \\\n",
       "0                                          6   \n",
       "1                                          4   \n",
       "2                                          5   \n",
       "3                                          3   \n",
       "4                                          5   \n",
       "\n",
       "   pct_merchant_category_id_avg_sales_lag3  \\\n",
       "0                                        6   \n",
       "1                                        4   \n",
       "2                                        6   \n",
       "3                                        6   \n",
       "4                                        8   \n",
       "\n",
       "   pct_merchant_category_id_avg_purchases_lag3  \\\n",
       "0                                            8   \n",
       "1                                            5   \n",
       "2                                            7   \n",
       "3                                            7   \n",
       "4                                            9   \n",
       "\n",
       "   pct_merchant_category_id_avg_sales_lag6  \\\n",
       "0                                        3   \n",
       "1                                        4   \n",
       "2                                        7   \n",
       "3                                        6   \n",
       "4                                        8   \n",
       "\n",
       "   pct_merchant_category_id_avg_purchases_lag6  \\\n",
       "0                                            4   \n",
       "1                                            5   \n",
       "2                                            7   \n",
       "3                                            7   \n",
       "4                                            8   \n",
       "\n",
       "   pct_merchant_category_id_avg_sales_lag12  \\\n",
       "0                                         2   \n",
       "1                                         4   \n",
       "2                                         6   \n",
       "3                                         5   \n",
       "4                                         7   \n",
       "\n",
       "   pct_merchant_category_id_avg_purchases_lag12  \\\n",
       "0                                             2   \n",
       "1                                             5   \n",
       "2                                             7   \n",
       "3                                             6   \n",
       "4                                             7   \n",
       "\n",
       "   pct_subsector_id_avg_sales_lag3  pct_subsector_id_avg_purchases_lag3  \\\n",
       "0                                6                                    8   \n",
       "1                                4                                    5   \n",
       "2                                6                                    6   \n",
       "3                                5                                    7   \n",
       "4                                8                                    8   \n",
       "\n",
       "   pct_subsector_id_avg_sales_lag6  pct_subsector_id_avg_purchases_lag6  \\\n",
       "0                                3                                    4   \n",
       "1                                4                                    5   \n",
       "2                                6                                    6   \n",
       "3                                6                                    7   \n",
       "4                                7                                    8   \n",
       "\n",
       "   pct_subsector_id_avg_sales_lag12  pct_subsector_id_avg_purchases_lag12  \n",
       "0                                 2                                     2  \n",
       "1                                 4                                     5  \n",
       "2                                 6                                     6  \n",
       "3                                 5                                     6  \n",
       "4                                 6                                     7  "
      ]
     },
     "execution_count": 428,
     "metadata": {},
     "output_type": "execute_result"
    }
   ],
   "source": [
    "hist_df_m.head()"
   ]
  },
  {
   "cell_type": "code",
   "execution_count": 450,
   "metadata": {
    "collapsed": true
   },
   "outputs": [],
   "source": [
    "for i in ['merchant_group_id','most_recent_sales_range', 'most_recent_purchases_range','category_4']:\n",
    "    gdf = vol_trip_per_dimension2(hist_df_m,i,'h')\n",
    "    train_df2 = pd.merge(train_df2, gdf, on=\"card_id\", how=\"left\")\n",
    "    test_df2 = pd.merge(test_df2, gdf, on=\"card_id\", how=\"left\")\n",
    "    gdf = vol_trip_per_dimension2(new_m_txn_df_m,i,'n')\n",
    "    train_df2 = pd.merge(train_df2, gdf, on=\"card_id\", how=\"left\")\n",
    "    test_df2 = pd.merge(test_df2, gdf, on=\"card_id\", how=\"left\")"
   ]
  }
 ],
 "metadata": {
  "kernelspec": {
   "display_name": "Python 2",
   "language": "python",
   "name": "python2"
  },
  "language_info": {
   "codemirror_mode": {
    "name": "ipython",
    "version": 2
   },
   "file_extension": ".py",
   "mimetype": "text/x-python",
   "name": "python",
   "nbconvert_exporter": "python",
   "pygments_lexer": "ipython2",
   "version": "2.7.14"
  }
 },
 "nbformat": 4,
 "nbformat_minor": 2
}
